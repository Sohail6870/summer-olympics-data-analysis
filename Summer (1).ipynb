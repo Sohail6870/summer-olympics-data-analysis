{
  "nbformat": 4,
  "nbformat_minor": 0,
  "metadata": {
    "kernelspec": {
      "display_name": "Python 2",
      "language": "python",
      "name": "python2"
    },
    "language_info": {
      "codemirror_mode": {
        "name": "ipython",
        "version": 2
      },
      "file_extension": ".py",
      "mimetype": "text/x-python",
      "name": "python",
      "nbconvert_exporter": "python",
      "pygments_lexer": "ipython2",
      "version": "2.7.16"
    },
    "colab": {
      "name": "Summer.ipynb",
      "provenance": []
    }
  },
  "cells": [
    {
      "cell_type": "markdown",
      "metadata": {
        "id": "-9eV9pzCWEO-"
      },
      "source": [
        "# Summer Olympics Data Analysis Assignment"
      ]
    },
    {
      "cell_type": "code",
      "metadata": {
        "id": "i5iL41VUWSc9"
      },
      "source": [
        "import pandas as pd\n",
        "df=pd.read_csv(\"summer.csv\")"
      ],
      "execution_count": 1,
      "outputs": []
    },
    {
      "cell_type": "markdown",
      "metadata": {
        "id": "xqE03ZRIWEPB"
      },
      "source": [
        "### 1. In how many cities Summer Olympics is held so far?"
      ]
    },
    {
      "cell_type": "code",
      "metadata": {
        "colab": {
          "base_uri": "https://localhost:8080/"
        },
        "id": "ShVPT5k5WEPC",
        "outputId": "87bde93f-3590-44b6-b6e8-9eb9dc4baf0c"
      },
      "source": [
        "len(df[\"City\"].unique())"
      ],
      "execution_count": 5,
      "outputs": [
        {
          "output_type": "execute_result",
          "data": {
            "text/plain": [
              "22"
            ]
          },
          "metadata": {},
          "execution_count": 5
        }
      ]
    },
    {
      "cell_type": "markdown",
      "metadata": {
        "id": "edrGlTaSXOPR"
      },
      "source": [
        "22"
      ]
    },
    {
      "cell_type": "markdown",
      "metadata": {
        "id": "_qTJErZbWEPD"
      },
      "source": [
        "### 2. Which sport is having most number of Gold Medals so far? (Top 5)"
      ]
    },
    {
      "cell_type": "code",
      "metadata": {
        "id": "9kYv6iUGWEPD"
      },
      "source": [
        "gold= df[df['Medal']=='Gold']\n",
        "gold.groupby('Sport').count()['Medal'].sort_values(ascending=False).head().plot.bar(figsize=(10, 5),color=\"DarkCyan\")"
      ],
      "execution_count": null,
      "outputs": []
    },
    {
      "cell_type": "markdown",
      "metadata": {
        "id": "rpgo0Or_WEPE"
      },
      "source": [
        "### 3. Which sport is having most number of medals so far? (Top 5)"
      ]
    },
    {
      "cell_type": "code",
      "metadata": {
        "id": "K_znPcEOWEPE"
      },
      "source": [
        "df.groupby('Sport').count()['Medal'].sort_values(ascending=False).head().plot.bar(figsize=(10, 5),  color = 'Indigo')"
      ],
      "execution_count": null,
      "outputs": []
    },
    {
      "cell_type": "markdown",
      "metadata": {
        "id": "YM75bPPnWEPE"
      },
      "source": [
        "### 4. Which player has won most number of medals? (Top 5)"
      ]
    },
    {
      "cell_type": "code",
      "metadata": {
        "id": "jq8dOFUGWEPE"
      },
      "source": [
        "df.groupby('Athlete').count()['Medal'].sort_values(ascending=False).head().plot.bar(figsize=(10, 5), color = 'Indigo')"
      ],
      "execution_count": null,
      "outputs": []
    },
    {
      "cell_type": "markdown",
      "metadata": {
        "id": "KFldExOCWEPE"
      },
      "source": [
        "### 5. Which player has won most number Gold Medals of medals? (Top 5)"
      ]
    },
    {
      "cell_type": "code",
      "metadata": {
        "id": "rOTUAp75WEPF"
      },
      "source": [
        "gold= df[df['Medal']=='Gold']\n",
        "gold.groupby('Athlete').count()['Medal'].sort_values(ascending=False).head(5).plot.bar(figsize=(10, 5), color = 'DarkBlue')"
      ],
      "execution_count": null,
      "outputs": []
    },
    {
      "cell_type": "markdown",
      "metadata": {
        "id": "MwAfsc08WEPF"
      },
      "source": [
        "### 6. In which year India won first Gold Medal in Summer Olympics?"
      ]
    },
    {
      "cell_type": "code",
      "metadata": {
        "colab": {
          "base_uri": "https://localhost:8080/"
        },
        "id": "hQw8sK11WEPF",
        "outputId": "3a0919e8-17fc-4ce0-c5dc-9388eb362529"
      },
      "source": [
        "gold[gold['Country']=='IND']['Year'].min()"
      ],
      "execution_count": 10,
      "outputs": [
        {
          "output_type": "execute_result",
          "data": {
            "text/plain": [
              "1928"
            ]
          },
          "metadata": {},
          "execution_count": 10
        }
      ]
    },
    {
      "cell_type": "markdown",
      "metadata": {
        "id": "ORhuNzY6WEPF"
      },
      "source": [
        "### 7. Which event is most popular in terms on number of players? (Top 5)"
      ]
    },
    {
      "cell_type": "code",
      "metadata": {
        "id": "LLg8EKc5WEPF"
      },
      "source": [
        "df.groupby(\"Event\").count()['Athlete'].sort_values(ascending=False).head(5).plot.bar(figsize=(10, 5), color = 'DarkGreen')"
      ],
      "execution_count": null,
      "outputs": []
    },
    {
      "cell_type": "markdown",
      "metadata": {
        "id": "Qymb_KA4WEPF"
      },
      "source": [
        "### 8. Which sport is having most female Gold Medalists? (Top 5)"
      ]
    },
    {
      "cell_type": "code",
      "metadata": {
        "id": "wukHchTOWEPF"
      },
      "source": [
        "data = []\n",
        "for sport in df['Sport'].unique():\n",
        "    data.append([sport , len(df[(df['Sport'] == sport) & (df['Medal'] == \"Gold\") & (df['Gender'] == \"Women\")])])\n",
        "\n",
        "plot_data = pd.DataFrame(data,columns = ['Sport','No of female athlete']).sort_values(by='No of female athlete', ascending=False).head()\n",
        "\n",
        "print(\"------------top-5 Sport that having most female Gold Medalists------------ \\n\")\n",
        "print(plot_data)\n",
        "plot_data.plot(x = 'Sport', y = 'No of female athlete', kind = 'bar', figsize = (10,5), color = \"DarkGreen\")"
      ],
      "execution_count": null,
      "outputs": []
    }
  ]
}